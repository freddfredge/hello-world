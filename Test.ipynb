{
 "cells": [
  {
   "cell_type": "code",
   "execution_count": null,
   "id": "5e0b0c6c",
   "metadata": {},
   "outputs": [],
   "source": [
    "import pandas as pd\n",
    "import numpy as np \n",
    "import math \n",
    "import random as rand"
   ]
  },
  {
   "cell_type": "code",
   "execution_count": null,
   "id": "ccf3c0d2",
   "metadata": {},
   "outputs": [],
   "source": [
    "df = pd.read_csv(r\"filename\")\n",
    "\n",
    "df.describe()\n",
    "\n",
    "df.plot(kind = \"scatter\", x= \"columnx\", y = \"column y\").iloc[:100]\n",
    "\n",
    "df_no_na = df.dropna()\n",
    "#used  to drop na, if no column is named then it will check full df, or can name the row"
   ]
  },
  {
   "cell_type": "code",
   "execution_count": null,
   "id": "3602bdda",
   "metadata": {},
   "outputs": [],
   "source": [
    "from sklearn.linear_model import LinearRegression\n"
   ]
  }
 ],
 "metadata": {
  "kernelspec": {
   "display_name": "Python 3",
   "language": "python",
   "name": "python3"
  },
  "language_info": {
   "name": "python",
   "version": "3.12.1"
  }
 },
 "nbformat": 4,
 "nbformat_minor": 5
}
